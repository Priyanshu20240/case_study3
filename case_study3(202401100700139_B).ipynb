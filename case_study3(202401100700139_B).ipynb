{
  "nbformat": 4,
  "nbformat_minor": 0,
  "metadata": {
    "colab": {
      "provenance": [],
      "authorship_tag": "ABX9TyN/F9DPqUvRRP7QSeABS+fB",
      "include_colab_link": true
    },
    "kernelspec": {
      "name": "python3",
      "display_name": "Python 3"
    },
    "language_info": {
      "name": "python"
    }
  },
  "cells": [
    {
      "cell_type": "markdown",
      "metadata": {
        "id": "view-in-github",
        "colab_type": "text"
      },
      "source": [
        "<a href=\"https://colab.research.google.com/github/Priyanshu20240/case_study3/blob/main/case_study3(202401100700139_B).ipynb\" target=\"_parent\"><img src=\"https://colab.research.google.com/assets/colab-badge.svg\" alt=\"Open In Colab\"/></a>"
      ]
    },
    {
      "cell_type": "code",
      "execution_count": null,
      "metadata": {
        "id": "AaphnErjfweU"
      },
      "outputs": [],
      "source": [
        "\n",
        "\n",
        "import time\n",
        "import random\n",
        "\n",
        "def get_temperature():\n",
        "\n",
        "  return round(random.uniform(20, 30), 1)\n",
        "\n",
        "def monitor_temperature():\n",
        "\n",
        "  while True:\n",
        "    temperature = get_temperature()\n",
        "    print(f\"Current Temperature: {temperature}°C\")\n",
        "    time.sleep(5)\n",
        "\n",
        "if __name__ == \"__main__\":\n",
        "  try:\n",
        "    monitor_temperature()\n",
        "  except KeyboardInterrupt:\n",
        "    print(\"Temperature monitoring stopped.\")\n"
      ]
    }
  ]
}